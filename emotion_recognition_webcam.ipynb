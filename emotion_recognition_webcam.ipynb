{
 "cells": [
  {
   "cell_type": "code",
   "execution_count": 1,
   "metadata": {},
   "outputs": [
    {
     "name": "stderr",
     "output_type": "stream",
     "text": [
      "Using TensorFlow backend.\n"
     ]
    }
   ],
   "source": [
    "from keras.preprocessing.image import img_to_array\n",
    "import cv2\n",
    "from keras.models import load_model\n",
    "import numpy as np\n",
    "\n",
    "# load face detection haar cascade\n",
    "cascade_path = 'haarcascade_frontalface_default.xml'\n",
    "face_detection = cv2.CascadeClassifier(cascade_path)\n",
    "\n",
    "# load our pretrained model\n",
    "emotion_model_path = 'logs/model_mini_XCEPTION.29-0.60.hdf5'\n",
    "emotion_classifier = load_model(emotion_model_path, compile=False)\n",
    "\n",
    "# decoded list of emotions\n",
    "EMOTIONS = [\"angry\" ,\"disgust\",\"scared\", \"happy\", \"sad\", \"surprised\", \"neutral\"]"
   ]
  },
  {
   "cell_type": "code",
   "execution_count": null,
   "metadata": {},
   "outputs": [],
   "source": [
    "cv2.namedWindow('emotion_recognition')\n",
    "camera = cv2.VideoCapture(0)\n",
    "\n",
    "while True: \n",
    "    # read one frame and preprocess it\n",
    "    frame = camera.read()[1]\n",
    "    (h, w, d) = frame.shape\n",
    "    r = 400 / w\n",
    "    dim = (400, int(h * r))\n",
    "    frame = cv2.resize(frame, dim)\n",
    "    gray = cv2.cvtColor(frame, cv2.COLOR_BGR2GRAY)   \n",
    "    \n",
    "    # detect face\n",
    "    faces = face_detection.detectMultiScale(gray,scaleFactor=1.1,minNeighbors=5,minSize=(30,30),flags=cv2.CASCADE_SCALE_IMAGE)\n",
    "    frameClone = frame.copy()\n",
    "    \n",
    "    for (x, y, w, h) in faces: \n",
    "        cv2.rectangle(frameClone, (x, y), ((x + w), (y + h)), (0, 0, 255), 2)  \n",
    "        if len(faces)>0:\n",
    "            # calculate ROIs squares\n",
    "            S = []\n",
    "            for face in faces:\n",
    "                (fX, fY, fW, fH) = face\n",
    "                S.append(fW*fH)\n",
    "            # take face with largest square\n",
    "            face_index = S.index(max(S))\n",
    "            face = faces[face_index]\n",
    "\n",
    "            (fX, fY, fW, fH) = face\n",
    "            \n",
    "            # define ROI\n",
    "            roi = gray[fY:fY + fH, fX:fX + fW]\n",
    "            roi = cv2.resize(roi, (48, 48))\n",
    "            roi = roi.astype(\"float\") / 255.0\n",
    "            roi = img_to_array(roi)\n",
    "            roi = np.expand_dims(roi, axis=0)\n",
    "            \n",
    "            # make prediction\n",
    "            preds = emotion_classifier.predict(roi)[0]\n",
    "            emotion_probability = np.max(preds)\n",
    "            label = EMOTIONS[preds.argmax()]\n",
    "            \n",
    "            emotions_spectrum = enumerate(zip(EMOTIONS, preds))\n",
    "            for (i, (emotion, probability)) in emotions_spectrum:\n",
    "                text = emotion + \": \" + str(\"{0:.1f}\".format(probability*100)) + '%'\n",
    "                w = int(probability * 120)\n",
    "                cv2.rectangle(frameClone, (2, (i * 30) + 5),(120, (i * 30) + 30), (220, 220, 220), -1)\n",
    "                cv2.rectangle(frameClone, (2, (i * 30) + 5),(w, (i * 30) + 30), (0, 185, 0), -1)\n",
    "                cv2.putText(frameClone, text, (10, (i * 30) + 21),cv2.FONT_HERSHEY_SIMPLEX, 0.45,(0, 0, 255), 1)\n",
    "                  \n",
    "            cv2.putText(frameClone, label, (fX, fY - 10), cv2.FONT_HERSHEY_SIMPLEX, 1.5, (0, 0, 255), 4)\n",
    "        \n",
    "    cv2.imshow('Emotion Recognition', frameClone)\n",
    "    if cv2.waitKey(1) & 0xff == ord('q'):                \n",
    "        break\n",
    "    \n",
    "camera.release()                                  \n",
    "cv2.destroyAllWindows() "
   ]
  }
 ],
 "metadata": {
  "kernelspec": {
   "display_name": "Python 3",
   "language": "python",
   "name": "python3"
  },
  "language_info": {
   "codemirror_mode": {
    "name": "ipython",
    "version": 3
   },
   "file_extension": ".py",
   "mimetype": "text/x-python",
   "name": "python",
   "nbconvert_exporter": "python",
   "pygments_lexer": "ipython3",
   "version": "3.7.7"
  }
 },
 "nbformat": 4,
 "nbformat_minor": 4
}
